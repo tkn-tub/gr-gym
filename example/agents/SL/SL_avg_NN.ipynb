{
 "cells": [
  {
   "cell_type": "markdown",
   "metadata": {},
   "source": [
    "## Train NN in SL"
   ]
  },
  {
   "cell_type": "code",
   "execution_count": 2,
   "metadata": {
    "scrolled": true
   },
   "outputs": [
    {
     "name": "stderr",
     "output_type": "stream",
     "text": [
      "/usr/local/lib/python3.6/dist-packages/tensorflow/python/framework/dtypes.py:516: FutureWarning: Passing (type, 1) or '1type' as a synonym of type is deprecated; in a future version of numpy, it will be understood as (type, (1,)) / '(1,)type'.\n",
      "  _np_qint8 = np.dtype([(\"qint8\", np.int8, 1)])\n",
      "/usr/local/lib/python3.6/dist-packages/tensorflow/python/framework/dtypes.py:517: FutureWarning: Passing (type, 1) or '1type' as a synonym of type is deprecated; in a future version of numpy, it will be understood as (type, (1,)) / '(1,)type'.\n",
      "  _np_quint8 = np.dtype([(\"quint8\", np.uint8, 1)])\n",
      "/usr/local/lib/python3.6/dist-packages/tensorflow/python/framework/dtypes.py:518: FutureWarning: Passing (type, 1) or '1type' as a synonym of type is deprecated; in a future version of numpy, it will be understood as (type, (1,)) / '(1,)type'.\n",
      "  _np_qint16 = np.dtype([(\"qint16\", np.int16, 1)])\n",
      "/usr/local/lib/python3.6/dist-packages/tensorflow/python/framework/dtypes.py:519: FutureWarning: Passing (type, 1) or '1type' as a synonym of type is deprecated; in a future version of numpy, it will be understood as (type, (1,)) / '(1,)type'.\n",
      "  _np_quint16 = np.dtype([(\"quint16\", np.uint16, 1)])\n",
      "/usr/local/lib/python3.6/dist-packages/tensorflow/python/framework/dtypes.py:520: FutureWarning: Passing (type, 1) or '1type' as a synonym of type is deprecated; in a future version of numpy, it will be understood as (type, (1,)) / '(1,)type'.\n",
      "  _np_qint32 = np.dtype([(\"qint32\", np.int32, 1)])\n",
      "/usr/local/lib/python3.6/dist-packages/tensorflow/python/framework/dtypes.py:525: FutureWarning: Passing (type, 1) or '1type' as a synonym of type is deprecated; in a future version of numpy, it will be understood as (type, (1,)) / '(1,)type'.\n",
      "  np_resource = np.dtype([(\"resource\", np.ubyte, 1)])\n",
      "/usr/local/lib/python3.6/dist-packages/tensorboard/compat/tensorflow_stub/dtypes.py:541: FutureWarning: Passing (type, 1) or '1type' as a synonym of type is deprecated; in a future version of numpy, it will be understood as (type, (1,)) / '(1,)type'.\n",
      "  _np_qint8 = np.dtype([(\"qint8\", np.int8, 1)])\n",
      "/usr/local/lib/python3.6/dist-packages/tensorboard/compat/tensorflow_stub/dtypes.py:542: FutureWarning: Passing (type, 1) or '1type' as a synonym of type is deprecated; in a future version of numpy, it will be understood as (type, (1,)) / '(1,)type'.\n",
      "  _np_quint8 = np.dtype([(\"quint8\", np.uint8, 1)])\n",
      "/usr/local/lib/python3.6/dist-packages/tensorboard/compat/tensorflow_stub/dtypes.py:543: FutureWarning: Passing (type, 1) or '1type' as a synonym of type is deprecated; in a future version of numpy, it will be understood as (type, (1,)) / '(1,)type'.\n",
      "  _np_qint16 = np.dtype([(\"qint16\", np.int16, 1)])\n",
      "/usr/local/lib/python3.6/dist-packages/tensorboard/compat/tensorflow_stub/dtypes.py:544: FutureWarning: Passing (type, 1) or '1type' as a synonym of type is deprecated; in a future version of numpy, it will be understood as (type, (1,)) / '(1,)type'.\n",
      "  _np_quint16 = np.dtype([(\"quint16\", np.uint16, 1)])\n",
      "/usr/local/lib/python3.6/dist-packages/tensorboard/compat/tensorflow_stub/dtypes.py:545: FutureWarning: Passing (type, 1) or '1type' as a synonym of type is deprecated; in a future version of numpy, it will be understood as (type, (1,)) / '(1,)type'.\n",
      "  _np_qint32 = np.dtype([(\"qint32\", np.int32, 1)])\n",
      "/usr/local/lib/python3.6/dist-packages/tensorboard/compat/tensorflow_stub/dtypes.py:550: FutureWarning: Passing (type, 1) or '1type' as a synonym of type is deprecated; in a future version of numpy, it will be understood as (type, (1,)) / '(1,)type'.\n",
      "  np_resource = np.dtype([(\"resource\", np.ubyte, 1)])\n"
     ]
    }
   ],
   "source": [
    "import pandas as pd\n",
    "import numpy as np\n",
    "import tensorflow as tf\n",
    "from tensorflow import keras\n",
    "import matplotlib.pyplot as plt"
   ]
  },
  {
   "cell_type": "code",
   "execution_count": 3,
   "metadata": {},
   "outputs": [],
   "source": [
    "SMALL_SIZE = 12\n",
    "MEDIUM_SIZE = 14\n",
    "BIGGER_SIZE = 16\n",
    "\n",
    "plt.rc('font', size=SMALL_SIZE)          # controls default text sizes\n",
    "plt.rc('axes', titlesize=SMALL_SIZE)     # fontsize of the axes title\n",
    "plt.rc('axes', labelsize=MEDIUM_SIZE)    # fontsize of the x and y labels\n",
    "plt.rc('xtick', labelsize=SMALL_SIZE)    # fontsize of the tick labels\n",
    "plt.rc('ytick', labelsize=SMALL_SIZE)    # fontsize of the tick labels\n",
    "plt.rc('legend', fontsize=SMALL_SIZE)    # legend fontsize\n",
    "plt.rc('figure', titlesize=BIGGER_SIZE)  # fontsize of the figure title"
   ]
  },
  {
   "cell_type": "code",
   "execution_count": 4,
   "metadata": {},
   "outputs": [],
   "source": [
    "mcs = [ 'BPSK 1/2', 'BPSK 3/4', 'QPSK 1/2', 'QPSK 3/4',\n",
    "        '16QAM 1/2', '16QAM 3/4', '64QAM 2/3', '64QAM 3/4']"
   ]
  },
  {
   "cell_type": "markdown",
   "metadata": {},
   "source": [
    "## Read and prepare data"
   ]
  },
  {
   "cell_type": "code",
   "execution_count": 6,
   "metadata": {},
   "outputs": [],
   "source": [
    "# load data\n",
    "df = pd.read_csv('../agentdata/rssi_sl_raw_long.csv')"
   ]
  },
  {
   "cell_type": "code",
   "execution_count": 7,
   "metadata": {},
   "outputs": [],
   "source": [
    "# get dataset of best action for each observation (obs and label)\n",
    "cols = []\n",
    "for i in range(64):\n",
    "    cols.append('Sc' + str(i))\n",
    "\n",
    "df['Run'] = df.apply(lambda row: int(row.name / 8), axis=1)\n",
    "df = df[df['Reward'] > 0.0]\n",
    "\n",
    "obs = []\n",
    "label = []\n",
    "dist = []\n",
    "maxrewards = []\n",
    "\n",
    "for run in df['Run'].unique():\n",
    "    runData = df[df['Run'] == run]\n",
    "    myid = runData['Reward'].idxmax()\n",
    "    myrow = df.loc[myid]\n",
    "    label.append(myrow['Action'])\n",
    "    maxrewards.append(myrow['Reward'])\n",
    "    obs.append(myrow[cols].to_numpy())\n",
    "    dist.append(myrow['Dist'])\n",
    "    df.loc[df.Run == run, \"Best\"] = myrow['Action']"
   ]
  },
  {
   "cell_type": "markdown",
   "metadata": {},
   "source": [
    "## Train the model"
   ]
  },
  {
   "cell_type": "code",
   "execution_count": 8,
   "metadata": {},
   "outputs": [
    {
     "name": "stdout",
     "output_type": "stream",
     "text": [
      "WARNING:tensorflow:From /usr/local/lib/python3.6/dist-packages/tensorflow/python/ops/init_ops.py:1251: calling VarianceScaling.__init__ (from tensorflow.python.ops.init_ops) with dtype is deprecated and will be removed in a future version.\n",
      "Instructions for updating:\n",
      "Call initializer instance with the dtype argument instead of passing it to the constructor\n",
      "Model: \"sequential\"\n",
      "_________________________________________________________________\n",
      "Layer (type)                 Output Shape              Param #   \n",
      "=================================================================\n",
      "dense (Dense)                (None, 1)                 2         \n",
      "_________________________________________________________________\n",
      "dense_1 (Dense)              (None, 8)                 16        \n",
      "_________________________________________________________________\n",
      "dense_2 (Dense)              (None, 8)                 72        \n",
      "_________________________________________________________________\n",
      "dense_3 (Dense)              (None, 8)                 72        \n",
      "=================================================================\n",
      "Total params: 162\n",
      "Trainable params: 162\n",
      "Non-trainable params: 0\n",
      "_________________________________________________________________\n",
      "None\n"
     ]
    }
   ],
   "source": [
    "a_size = 8\n",
    "model = keras.Sequential()\n",
    "model.add(keras.layers.Dense(1, input_shape=(1,), activation='sigmoid'))\n",
    "model.add(keras.layers.Dense(a_size , activation='relu'))\n",
    "model.add(keras.layers.Dense(a_size, activation='relu'))\n",
    "model.add(keras.layers.Dense(a_size, activation='softmax'))\n",
    "model.compile(optimizer=tf.train.AdamOptimizer(0.001),\n",
    "              loss='sparse_categorical_crossentropy',\n",
    "              metrics=['accuracy'])\n",
    "print(model.summary())"
   ]
  },
  {
   "cell_type": "code",
   "execution_count": 9,
   "metadata": {},
   "outputs": [],
   "source": [
    "# take average observation over all 64 subcarriers\n",
    "data = []\n",
    "for elem in obs:\n",
    "    elem = np.average([elem[11], elem[25], elem[39], elem[53]])\n",
    "    elem = (elem - 0) / 45 \n",
    "    elem = np.reshape(elem, [1, ])\n",
    "    data.append(elem)\n",
    "data = np.array(data)"
   ]
  },
  {
   "cell_type": "code",
   "execution_count": 10,
   "metadata": {},
   "outputs": [
    {
     "data": {
      "text/plain": [
       "6594"
      ]
     },
     "execution_count": 10,
     "metadata": {},
     "output_type": "execute_result"
    }
   ],
   "source": [
    "# randomize data\n",
    "new_data = data\n",
    "new_label =[]\n",
    "new_label.extend(label)\n",
    "\n",
    "for i in range(5):\n",
    "    new_data = np.append(new_data, data + np.random.normal(0,0.005,len(data)).reshape(len(data),1))\n",
    "    new_label.extend(label)\n",
    "len(new_data)"
   ]
  },
  {
   "cell_type": "code",
   "execution_count": 11,
   "metadata": {
    "scrolled": false
   },
   "outputs": [
    {
     "name": "stdout",
     "output_type": "stream",
     "text": [
      "Train on 5275 samples, validate on 1319 samples\n",
      "Epoch 1/100\n",
      "5275/5275 [==============================] - 1s 158us/sample - loss: 2.0063 - acc: 0.2593 - val_loss: 1.9646 - val_acc: 0.2578\n",
      "Epoch 2/100\n",
      "5275/5275 [==============================] - 0s 77us/sample - loss: 1.9440 - acc: 0.2620 - val_loss: 1.9326 - val_acc: 0.2578\n",
      "Epoch 3/100\n",
      "5275/5275 [==============================] - 0s 72us/sample - loss: 1.9217 - acc: 0.2620 - val_loss: 1.9169 - val_acc: 0.2578\n",
      "Epoch 4/100\n",
      "5275/5275 [==============================] - 0s 76us/sample - loss: 1.9104 - acc: 0.2620 - val_loss: 1.9084 - val_acc: 0.2578\n",
      "Epoch 5/100\n",
      "5275/5275 [==============================] - 0s 85us/sample - loss: 1.9039 - acc: 0.2620 - val_loss: 1.9033 - val_acc: 0.2578\n",
      "Epoch 6/100\n",
      "5275/5275 [==============================] - 0s 85us/sample - loss: 1.9000 - acc: 0.2620 - val_loss: 1.8998 - val_acc: 0.2578\n",
      "Epoch 7/100\n",
      "5275/5275 [==============================] - 0s 81us/sample - loss: 1.8966 - acc: 0.2620 - val_loss: 1.8968 - val_acc: 0.2578\n",
      "Epoch 8/100\n",
      "5275/5275 [==============================] - 0s 85us/sample - loss: 1.8942 - acc: 0.2620 - val_loss: 1.8943 - val_acc: 0.2578\n",
      "Epoch 9/100\n",
      "5275/5275 [==============================] - 0s 75us/sample - loss: 1.8908 - acc: 0.2620 - val_loss: 1.8924 - val_acc: 0.2578\n",
      "Epoch 10/100\n",
      "5275/5275 [==============================] - 0s 77us/sample - loss: 1.8884 - acc: 0.2620 - val_loss: 1.8878 - val_acc: 0.2578\n",
      "Epoch 11/100\n",
      "5275/5275 [==============================] - 0s 79us/sample - loss: 1.8845 - acc: 0.2620 - val_loss: 1.8832 - val_acc: 0.2578\n",
      "Epoch 12/100\n",
      "5275/5275 [==============================] - 0s 80us/sample - loss: 1.8794 - acc: 0.2620 - val_loss: 1.8778 - val_acc: 0.2578\n",
      "Epoch 13/100\n",
      "5275/5275 [==============================] - 0s 77us/sample - loss: 1.8731 - acc: 0.2620 - val_loss: 1.8702 - val_acc: 0.2578\n",
      "Epoch 14/100\n",
      "5275/5275 [==============================] - 0s 80us/sample - loss: 1.8640 - acc: 0.2620 - val_loss: 1.8597 - val_acc: 0.2578\n",
      "Epoch 15/100\n",
      "5275/5275 [==============================] - 0s 86us/sample - loss: 1.8514 - acc: 0.2620 - val_loss: 1.8450 - val_acc: 0.2578\n",
      "Epoch 16/100\n",
      "5275/5275 [==============================] - 0s 73us/sample - loss: 1.8328 - acc: 0.2616 - val_loss: 1.8196 - val_acc: 0.2585\n",
      "Epoch 17/100\n",
      "5275/5275 [==============================] - 0s 74us/sample - loss: 1.7924 - acc: 0.2713 - val_loss: 1.7627 - val_acc: 0.2980\n",
      "Epoch 18/100\n",
      "5275/5275 [==============================] - 0s 76us/sample - loss: 1.7181 - acc: 0.3452 - val_loss: 1.6720 - val_acc: 0.3889\n",
      "Epoch 19/100\n",
      "5275/5275 [==============================] - 0s 78us/sample - loss: 1.6171 - acc: 0.4025 - val_loss: 1.5648 - val_acc: 0.3995\n",
      "Epoch 20/100\n",
      "5275/5275 [==============================] - 0s 88us/sample - loss: 1.5109 - acc: 0.4286 - val_loss: 1.4651 - val_acc: 0.4359\n",
      "Epoch 21/100\n",
      "5275/5275 [==============================] - 0s 83us/sample - loss: 1.4182 - acc: 0.4646 - val_loss: 1.3795 - val_acc: 0.4587\n",
      "Epoch 22/100\n",
      "5275/5275 [==============================] - 0s 75us/sample - loss: 1.3400 - acc: 0.4864 - val_loss: 1.3071 - val_acc: 0.4701\n",
      "Epoch 23/100\n",
      "5275/5275 [==============================] - 0s 89us/sample - loss: 1.2707 - acc: 0.4902 - val_loss: 1.2396 - val_acc: 0.4829\n",
      "Epoch 24/100\n",
      "5275/5275 [==============================] - 0s 90us/sample - loss: 1.2061 - acc: 0.5029 - val_loss: 1.1760 - val_acc: 0.4845\n",
      "Epoch 25/100\n",
      "5275/5275 [==============================] - 0s 78us/sample - loss: 1.1454 - acc: 0.5314 - val_loss: 1.1188 - val_acc: 0.5322\n",
      "Epoch 26/100\n",
      "5275/5275 [==============================] - 0s 77us/sample - loss: 1.0921 - acc: 0.5757 - val_loss: 1.0702 - val_acc: 0.5792\n",
      "Epoch 27/100\n",
      "5275/5275 [==============================] - 0s 75us/sample - loss: 1.0466 - acc: 0.6114 - val_loss: 1.0263 - val_acc: 0.6217\n",
      "Epoch 28/100\n",
      "5275/5275 [==============================] - 0s 80us/sample - loss: 1.0068 - acc: 0.6349 - val_loss: 0.9916 - val_acc: 0.6209\n",
      "Epoch 29/100\n",
      "5275/5275 [==============================] - 0s 77us/sample - loss: 0.9734 - acc: 0.6394 - val_loss: 0.9593 - val_acc: 0.6422\n",
      "Epoch 30/100\n",
      "5275/5275 [==============================] - 0s 77us/sample - loss: 0.9453 - acc: 0.6512 - val_loss: 0.9322 - val_acc: 0.6482\n",
      "Epoch 31/100\n",
      "5275/5275 [==============================] - 0s 79us/sample - loss: 0.9202 - acc: 0.6656 - val_loss: 0.9112 - val_acc: 0.6550\n",
      "Epoch 32/100\n",
      "5275/5275 [==============================] - 0s 79us/sample - loss: 0.8984 - acc: 0.6609 - val_loss: 0.8948 - val_acc: 0.6649\n",
      "Epoch 33/100\n",
      "5275/5275 [==============================] - 0s 89us/sample - loss: 0.8798 - acc: 0.6673 - val_loss: 0.8711 - val_acc: 0.6505\n",
      "Epoch 34/100\n",
      "5275/5275 [==============================] - 0s 84us/sample - loss: 0.8628 - acc: 0.6696 - val_loss: 0.8557 - val_acc: 0.6528\n",
      "Epoch 35/100\n",
      "5275/5275 [==============================] - 0s 87us/sample - loss: 0.8486 - acc: 0.6745 - val_loss: 0.8437 - val_acc: 0.6596\n",
      "Epoch 36/100\n",
      "5275/5275 [==============================] - 0s 76us/sample - loss: 0.8358 - acc: 0.6777 - val_loss: 0.8311 - val_acc: 0.6846\n",
      "Epoch 37/100\n",
      "5275/5275 [==============================] - 0s 75us/sample - loss: 0.8243 - acc: 0.6817 - val_loss: 0.8172 - val_acc: 0.6763\n",
      "Epoch 38/100\n",
      "5275/5275 [==============================] - 0s 77us/sample - loss: 0.8149 - acc: 0.6819 - val_loss: 0.8087 - val_acc: 0.6839\n",
      "Epoch 39/100\n",
      "5275/5275 [==============================] - 0s 73us/sample - loss: 0.8052 - acc: 0.6876 - val_loss: 0.7992 - val_acc: 0.6899\n",
      "Epoch 40/100\n",
      "5275/5275 [==============================] - 0s 76us/sample - loss: 0.7977 - acc: 0.6874 - val_loss: 0.7906 - val_acc: 0.6732\n",
      "Epoch 41/100\n",
      "5275/5275 [==============================] - 1s 96us/sample - loss: 0.7909 - acc: 0.6789 - val_loss: 0.7839 - val_acc: 0.6861\n",
      "Epoch 42/100\n",
      "5275/5275 [==============================] - 0s 87us/sample - loss: 0.7837 - acc: 0.6885 - val_loss: 0.7853 - val_acc: 0.6823\n",
      "Epoch 43/100\n",
      "5275/5275 [==============================] - 0s 83us/sample - loss: 0.7801 - acc: 0.6899 - val_loss: 0.7780 - val_acc: 0.6892\n",
      "Epoch 44/100\n",
      "5275/5275 [==============================] - 0s 78us/sample - loss: 0.7752 - acc: 0.6840 - val_loss: 0.7702 - val_acc: 0.6869\n",
      "Epoch 45/100\n",
      "5275/5275 [==============================] - 0s 77us/sample - loss: 0.7690 - acc: 0.6974 - val_loss: 0.7713 - val_acc: 0.6854\n",
      "Epoch 46/100\n",
      "5275/5275 [==============================] - 0s 77us/sample - loss: 0.7654 - acc: 0.6847 - val_loss: 0.7600 - val_acc: 0.6899\n",
      "Epoch 47/100\n",
      "5275/5275 [==============================] - 0s 76us/sample - loss: 0.7613 - acc: 0.6918 - val_loss: 0.7561 - val_acc: 0.6884\n",
      "Epoch 48/100\n",
      "5275/5275 [==============================] - 0s 82us/sample - loss: 0.7589 - acc: 0.6904 - val_loss: 0.7528 - val_acc: 0.6884\n",
      "Epoch 49/100\n",
      "5275/5275 [==============================] - 0s 89us/sample - loss: 0.7557 - acc: 0.6969 - val_loss: 0.7474 - val_acc: 0.6975\n",
      "Epoch 50/100\n",
      "5275/5275 [==============================] - 0s 89us/sample - loss: 0.7530 - acc: 0.6918 - val_loss: 0.7450 - val_acc: 0.6990\n",
      "Epoch 51/100\n",
      "5275/5275 [==============================] - 0s 87us/sample - loss: 0.7501 - acc: 0.6929 - val_loss: 0.7452 - val_acc: 0.6884\n",
      "Epoch 52/100\n",
      "5275/5275 [==============================] - 0s 80us/sample - loss: 0.7471 - acc: 0.6976 - val_loss: 0.7458 - val_acc: 0.6854\n",
      "Epoch 53/100\n",
      "5275/5275 [==============================] - 0s 72us/sample - loss: 0.7457 - acc: 0.6950 - val_loss: 0.7384 - val_acc: 0.6899\n",
      "Epoch 54/100\n",
      "5275/5275 [==============================] - 0s 73us/sample - loss: 0.7443 - acc: 0.6952 - val_loss: 0.7419 - val_acc: 0.6876\n",
      "Epoch 55/100\n",
      "5275/5275 [==============================] - 0s 71us/sample - loss: 0.7411 - acc: 0.6940 - val_loss: 0.7341 - val_acc: 0.7005\n",
      "Epoch 56/100\n",
      "5275/5275 [==============================] - 0s 74us/sample - loss: 0.7405 - acc: 0.6965 - val_loss: 0.7328 - val_acc: 0.6975\n",
      "Epoch 57/100\n",
      "5275/5275 [==============================] - 0s 74us/sample - loss: 0.7396 - acc: 0.6969 - val_loss: 0.7343 - val_acc: 0.6839\n",
      "Epoch 58/100\n",
      "5275/5275 [==============================] - 0s 76us/sample - loss: 0.7363 - acc: 0.6969 - val_loss: 0.7330 - val_acc: 0.6869\n",
      "Epoch 59/100\n"
     ]
    },
    {
     "name": "stdout",
     "output_type": "stream",
     "text": [
      "5275/5275 [==============================] - 0s 89us/sample - loss: 0.7354 - acc: 0.6955 - val_loss: 0.7282 - val_acc: 0.6960\n",
      "Epoch 60/100\n",
      "5275/5275 [==============================] - 0s 71us/sample - loss: 0.7348 - acc: 0.7003 - val_loss: 0.7269 - val_acc: 0.6990\n",
      "Epoch 61/100\n",
      "5275/5275 [==============================] - 0s 76us/sample - loss: 0.7342 - acc: 0.6927 - val_loss: 0.7268 - val_acc: 0.6907\n",
      "Epoch 62/100\n",
      "5275/5275 [==============================] - 0s 81us/sample - loss: 0.7341 - acc: 0.6950 - val_loss: 0.7252 - val_acc: 0.6907\n",
      "Epoch 63/100\n",
      "5275/5275 [==============================] - 0s 77us/sample - loss: 0.7310 - acc: 0.6940 - val_loss: 0.7265 - val_acc: 0.6884\n",
      "Epoch 64/100\n",
      "5275/5275 [==============================] - 0s 76us/sample - loss: 0.7296 - acc: 0.6974 - val_loss: 0.7355 - val_acc: 0.6854\n",
      "Epoch 65/100\n",
      "5275/5275 [==============================] - 0s 76us/sample - loss: 0.7291 - acc: 0.6961 - val_loss: 0.7229 - val_acc: 0.6876\n",
      "Epoch 66/100\n",
      "5275/5275 [==============================] - 0s 76us/sample - loss: 0.7289 - acc: 0.6948 - val_loss: 0.7201 - val_acc: 0.6952\n",
      "Epoch 67/100\n",
      "5275/5275 [==============================] - 0s 84us/sample - loss: 0.7283 - acc: 0.6952 - val_loss: 0.7191 - val_acc: 0.6952\n",
      "Epoch 68/100\n",
      "5275/5275 [==============================] - 0s 84us/sample - loss: 0.7272 - acc: 0.6944 - val_loss: 0.7249 - val_acc: 0.6914\n",
      "Epoch 69/100\n",
      "5275/5275 [==============================] - 0s 76us/sample - loss: 0.7268 - acc: 0.6923 - val_loss: 0.7170 - val_acc: 0.6975\n",
      "Epoch 70/100\n",
      "5275/5275 [==============================] - 0s 73us/sample - loss: 0.7255 - acc: 0.6973 - val_loss: 0.7174 - val_acc: 0.6899\n",
      "Epoch 71/100\n",
      "5275/5275 [==============================] - 0s 77us/sample - loss: 0.7246 - acc: 0.6957 - val_loss: 0.7156 - val_acc: 0.6998\n",
      "Epoch 72/100\n",
      "5275/5275 [==============================] - 0s 76us/sample - loss: 0.7230 - acc: 0.6988 - val_loss: 0.7157 - val_acc: 0.6945\n",
      "Epoch 73/100\n",
      "5275/5275 [==============================] - 0s 74us/sample - loss: 0.7227 - acc: 0.6954 - val_loss: 0.7256 - val_acc: 0.6876\n",
      "Epoch 74/100\n",
      "5275/5275 [==============================] - 0s 88us/sample - loss: 0.7233 - acc: 0.6961 - val_loss: 0.7225 - val_acc: 0.6823\n",
      "Epoch 75/100\n",
      "5275/5275 [==============================] - 0s 89us/sample - loss: 0.7223 - acc: 0.6965 - val_loss: 0.7163 - val_acc: 0.6922\n",
      "Epoch 76/100\n",
      "5275/5275 [==============================] - 0s 92us/sample - loss: 0.7215 - acc: 0.6955 - val_loss: 0.7131 - val_acc: 0.6929\n",
      "Epoch 77/100\n",
      "5275/5275 [==============================] - 0s 79us/sample - loss: 0.7206 - acc: 0.6969 - val_loss: 0.7135 - val_acc: 0.6907\n",
      "Epoch 78/100\n",
      "5275/5275 [==============================] - 0s 78us/sample - loss: 0.7215 - acc: 0.6929 - val_loss: 0.7111 - val_acc: 0.6922\n",
      "Epoch 79/100\n",
      "5275/5275 [==============================] - 0s 76us/sample - loss: 0.7204 - acc: 0.6942 - val_loss: 0.7103 - val_acc: 0.6922\n",
      "Epoch 80/100\n",
      "5275/5275 [==============================] - 0s 82us/sample - loss: 0.7195 - acc: 0.6938 - val_loss: 0.7107 - val_acc: 0.6914\n",
      "Epoch 81/100\n",
      "5275/5275 [==============================] - 0s 77us/sample - loss: 0.7186 - acc: 0.6946 - val_loss: 0.7117 - val_acc: 0.6846\n",
      "Epoch 82/100\n",
      "5275/5275 [==============================] - 0s 75us/sample - loss: 0.7179 - acc: 0.6942 - val_loss: 0.7150 - val_acc: 0.6907\n",
      "Epoch 83/100\n",
      "5275/5275 [==============================] - 0s 75us/sample - loss: 0.7178 - acc: 0.6948 - val_loss: 0.7086 - val_acc: 0.6929\n",
      "Epoch 84/100\n",
      "5275/5275 [==============================] - 0s 75us/sample - loss: 0.7171 - acc: 0.6950 - val_loss: 0.7084 - val_acc: 0.6899\n",
      "Epoch 85/100\n",
      "5275/5275 [==============================] - 0s 76us/sample - loss: 0.7173 - acc: 0.6976 - val_loss: 0.7098 - val_acc: 0.6892\n",
      "Epoch 86/100\n",
      "5275/5275 [==============================] - 0s 75us/sample - loss: 0.7179 - acc: 0.6957 - val_loss: 0.7088 - val_acc: 0.6983\n",
      "Epoch 87/100\n",
      "5275/5275 [==============================] - 0s 77us/sample - loss: 0.7161 - acc: 0.6969 - val_loss: 0.7222 - val_acc: 0.6854\n",
      "Epoch 88/100\n",
      "5275/5275 [==============================] - 0s 88us/sample - loss: 0.7178 - acc: 0.6908 - val_loss: 0.7112 - val_acc: 0.6854\n",
      "Epoch 89/100\n",
      "5275/5275 [==============================] - 0s 89us/sample - loss: 0.7160 - acc: 0.6952 - val_loss: 0.7091 - val_acc: 0.6876\n",
      "Epoch 90/100\n",
      "5275/5275 [==============================] - 0s 85us/sample - loss: 0.7163 - acc: 0.6946 - val_loss: 0.7048 - val_acc: 0.6884\n",
      "Epoch 91/100\n",
      "5275/5275 [==============================] - 0s 87us/sample - loss: 0.7142 - acc: 0.6969 - val_loss: 0.7037 - val_acc: 0.6929\n",
      "Epoch 92/100\n",
      "5275/5275 [==============================] - 0s 88us/sample - loss: 0.7141 - acc: 0.6973 - val_loss: 0.7071 - val_acc: 0.6876\n",
      "Epoch 93/100\n",
      "5275/5275 [==============================] - 0s 87us/sample - loss: 0.7142 - acc: 0.6955 - val_loss: 0.7076 - val_acc: 0.6808\n",
      "Epoch 94/100\n",
      "5275/5275 [==============================] - 0s 79us/sample - loss: 0.7148 - acc: 0.6965 - val_loss: 0.7046 - val_acc: 0.6922\n",
      "Epoch 95/100\n",
      "5275/5275 [==============================] - 0s 85us/sample - loss: 0.7130 - acc: 0.6976 - val_loss: 0.7211 - val_acc: 0.6816\n",
      "Epoch 96/100\n",
      "5275/5275 [==============================] - 0s 81us/sample - loss: 0.7133 - acc: 0.6974 - val_loss: 0.7001 - val_acc: 0.6914\n",
      "Epoch 97/100\n",
      "5275/5275 [==============================] - 0s 78us/sample - loss: 0.7123 - acc: 0.6965 - val_loss: 0.7007 - val_acc: 0.6990\n",
      "Epoch 98/100\n",
      "5275/5275 [==============================] - 0s 83us/sample - loss: 0.7131 - acc: 0.6918 - val_loss: 0.7042 - val_acc: 0.6960\n",
      "Epoch 99/100\n",
      "5275/5275 [==============================] - 0s 87us/sample - loss: 0.7127 - acc: 0.6942 - val_loss: 0.7025 - val_acc: 0.7005\n",
      "Epoch 100/100\n",
      "5275/5275 [==============================] - 0s 88us/sample - loss: 0.7139 - acc: 0.6955 - val_loss: 0.7027 - val_acc: 0.6892\n"
     ]
    },
    {
     "data": {
      "text/plain": [
       "<tensorflow.python.keras.callbacks.History at 0x7f291b370a58>"
      ]
     },
     "execution_count": 11,
     "metadata": {},
     "output_type": "execute_result"
    }
   ],
   "source": [
    "total_epochs = int(100)\n",
    "model.fit(new_data, new_label,\n",
    "                validation_split=0.2,\n",
    "                epochs=total_epochs,\n",
    "                batch_size=32)"
   ]
  },
  {
   "cell_type": "markdown",
   "metadata": {},
   "source": [
    "## Evaluate the model"
   ]
  },
  {
   "cell_type": "code",
   "execution_count": 12,
   "metadata": {
    "scrolled": true
   },
   "outputs": [
    {
     "name": "stdout",
     "output_type": "stream",
     "text": [
      "0.4 -> 1\n",
      "0.5 -> 2\n",
      "0.6 -> 3\n",
      "0.7 -> 5\n"
     ]
    }
   ],
   "source": [
    "for test in [0.4, 0.5, 0.6, 0.7]:\n",
    "    var = model.predict([test])\n",
    "    print(str(test) +\" -> \" + str(np.argmax(var)))"
   ]
  },
  {
   "cell_type": "code",
   "execution_count": 17,
   "metadata": {
    "scrolled": true
   },
   "outputs": [
    {
     "data": {
      "image/png": "[encoded data removed]",
      "text/plain": [
       "<Figure size 432x288 with 1 Axes>"
      ]
     },
     "metadata": {},
     "output_type": "display_data"
    }
   ],
   "source": [
    "linEval = np.linspace(data.min(), data.max(), num=1000).reshape(-1, 1)\n",
    "actions= []\n",
    "for elem in linEval:\n",
    "    actions.append(np.argmax(model.predict([elem])))\n",
    "plt.plot(linEval, actions, '.', alpha = 0.5)\n",
    "plt.yticks(range(8), mcs)\n",
    "plt.xlabel('Observation (Average)')\n",
    "plt.ylabel('Action')\n",
    "plt.tight_layout()\n",
    "plt.savefig('eval_nn_agent.pdf')\n",
    "plt.savefig('eval_nn_agent.png')"
   ]
  },
  {
   "cell_type": "markdown",
   "metadata": {},
   "source": [
    "## Show measurement data"
   ]
  },
  {
   "cell_type": "code",
   "execution_count": 29,
   "metadata": {},
   "outputs": [
    {
     "data": {
      "image/png": "[encoded data removed]",
      "text/plain": [
       "<Figure size 432x288 with 1 Axes>"
      ]
     },
     "metadata": {},
     "output_type": "display_data"
    }
   ],
   "source": [
    "plt.plot(data, label, '.', alpha = 0.5)\n",
    "plt.yticks(range(8), mcs)\n",
    "plt.xlabel('Observation (Average)')\n",
    "plt.ylabel('Action')\n",
    "plt.tight_layout()\n",
    "plt.savefig('eval_action.pdf')\n",
    "plt.savefig('eval_action.png')"
   ]
  },
  {
   "cell_type": "code",
   "execution_count": 19,
   "metadata": {},
   "outputs": [],
   "source": [
    "dfDist = pd.DataFrame(data, columns =['Avg'])\n",
    "dfDist['Dist'] = dist"
   ]
  },
  {
   "cell_type": "code",
   "execution_count": 20,
   "metadata": {},
   "outputs": [
    {
     "data": {
      "image/png": "[encoded data removed]",
      "text/plain": [
       "<Figure size 432x288 with 1 Axes>"
      ]
     },
     "metadata": {},
     "output_type": "display_data"
    }
   ],
   "source": [
    "plt.plot(dist, data, '.', alpha = 0.5)\n",
    "plt.xlabel('Distance in dB')\n",
    "plt.ylabel('Observation (SC Average)')\n",
    "plt.savefig('eval_observation.pdf')\n",
    "plt.savefig('eval_observation.png')"
   ]
  },
  {
   "cell_type": "markdown",
   "metadata": {},
   "source": [
    "## Compare agent and measurement"
   ]
  },
  {
   "cell_type": "code",
   "execution_count": 28,
   "metadata": {},
   "outputs": [
    {
     "data": {
      "image/png": "[encoded data removed]",
      "text/plain": [
       "<Figure size 432x288 with 1 Axes>"
      ]
     },
     "metadata": {},
     "output_type": "display_data"
    }
   ],
   "source": [
    "linEval = np.linspace(data.min(), data.max(), num=1000).reshape(-1, 1)\n",
    "actions= []\n",
    "for elem in linEval:\n",
    "    actions.append(np.argmax(model.predict([elem])))\n",
    "gooddata = []\n",
    "goodaction = []\n",
    "baddata = []\n",
    "badaction = []\n",
    "for key, elem in enumerate(data):\n",
    "    predict = np.argmax(model.predict([elem]))\n",
    "    if label[key] == predict:\n",
    "        gooddata.append(elem)\n",
    "        goodaction.append(label[key])\n",
    "    else:\n",
    "        baddata.append(elem)\n",
    "        badaction.append(label[key])\n",
    "plt.plot(linEval, actions, '.', alpha = 0.5, label=\"Model prediction\")\n",
    "plt.plot(baddata, badaction, 'r.', alpha = 0.5, label=\"Expected\")\n",
    "plt.plot(gooddata, goodaction, 'g.', alpha = 0.5, label=\"Unexpected\")\n",
    "plt.yticks(range(8), mcs)\n",
    "plt.xlabel('Observation (Average)')\n",
    "plt.ylabel('Action')\n",
    "plt.legend()\n",
    "plt.tight_layout()\n",
    "plt.savefig('eval_nn_agent_data.pdf')\n",
    "plt.savefig('eval_nn_agent_data.png')"
   ]
  },
  {
   "cell_type": "code",
   "execution_count": null,
   "metadata": {},
   "outputs": [],
   "source": []
  }
 ],
 "metadata": {
  "kernelspec": {
   "display_name": "Python 3",
   "language": "python",
   "name": "python3"
  },
  "language_info": {
   "codemirror_mode": {
    "name": "ipython",
    "version": 3
   },
   "file_extension": ".py",
   "mimetype": "text/x-python",
   "name": "python",
   "nbconvert_exporter": "python",
   "pygments_lexer": "ipython3",
   "version": "3.6.9"
  }
 },
 "nbformat": 4,
 "nbformat_minor": 2
}
