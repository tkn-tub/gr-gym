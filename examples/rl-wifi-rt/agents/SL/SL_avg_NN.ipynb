{
 "cells": [
  {
   "cell_type": "markdown",
   "metadata": {},
   "source": [
    "## Train NN in SL"
   ]
  },
  {
   "cell_type": "code",
   "execution_count": 1,
   "metadata": {
    "scrolled": true
   },
   "outputs": [
    {
     "name": "stderr",
     "output_type": "stream",
     "text": [
      "/usr/local/lib/python3.6/dist-packages/tensorflow/python/framework/dtypes.py:516: FutureWarning: Passing (type, 1) or '1type' as a synonym of type is deprecated; in a future version of numpy, it will be understood as (type, (1,)) / '(1,)type'.\n",
      "  _np_qint8 = np.dtype([(\"qint8\", np.int8, 1)])\n",
      "/usr/local/lib/python3.6/dist-packages/tensorflow/python/framework/dtypes.py:517: FutureWarning: Passing (type, 1) or '1type' as a synonym of type is deprecated; in a future version of numpy, it will be understood as (type, (1,)) / '(1,)type'.\n",
      "  _np_quint8 = np.dtype([(\"quint8\", np.uint8, 1)])\n",
      "/usr/local/lib/python3.6/dist-packages/tensorflow/python/framework/dtypes.py:518: FutureWarning: Passing (type, 1) or '1type' as a synonym of type is deprecated; in a future version of numpy, it will be understood as (type, (1,)) / '(1,)type'.\n",
      "  _np_qint16 = np.dtype([(\"qint16\", np.int16, 1)])\n",
      "/usr/local/lib/python3.6/dist-packages/tensorflow/python/framework/dtypes.py:519: FutureWarning: Passing (type, 1) or '1type' as a synonym of type is deprecated; in a future version of numpy, it will be understood as (type, (1,)) / '(1,)type'.\n",
      "  _np_quint16 = np.dtype([(\"quint16\", np.uint16, 1)])\n",
      "/usr/local/lib/python3.6/dist-packages/tensorflow/python/framework/dtypes.py:520: FutureWarning: Passing (type, 1) or '1type' as a synonym of type is deprecated; in a future version of numpy, it will be understood as (type, (1,)) / '(1,)type'.\n",
      "  _np_qint32 = np.dtype([(\"qint32\", np.int32, 1)])\n",
      "/usr/local/lib/python3.6/dist-packages/tensorflow/python/framework/dtypes.py:525: FutureWarning: Passing (type, 1) or '1type' as a synonym of type is deprecated; in a future version of numpy, it will be understood as (type, (1,)) / '(1,)type'.\n",
      "  np_resource = np.dtype([(\"resource\", np.ubyte, 1)])\n",
      "/usr/local/lib/python3.6/dist-packages/tensorboard/compat/tensorflow_stub/dtypes.py:541: FutureWarning: Passing (type, 1) or '1type' as a synonym of type is deprecated; in a future version of numpy, it will be understood as (type, (1,)) / '(1,)type'.\n",
      "  _np_qint8 = np.dtype([(\"qint8\", np.int8, 1)])\n",
      "/usr/local/lib/python3.6/dist-packages/tensorboard/compat/tensorflow_stub/dtypes.py:542: FutureWarning: Passing (type, 1) or '1type' as a synonym of type is deprecated; in a future version of numpy, it will be understood as (type, (1,)) / '(1,)type'.\n",
      "  _np_quint8 = np.dtype([(\"quint8\", np.uint8, 1)])\n",
      "/usr/local/lib/python3.6/dist-packages/tensorboard/compat/tensorflow_stub/dtypes.py:543: FutureWarning: Passing (type, 1) or '1type' as a synonym of type is deprecated; in a future version of numpy, it will be understood as (type, (1,)) / '(1,)type'.\n",
      "  _np_qint16 = np.dtype([(\"qint16\", np.int16, 1)])\n",
      "/usr/local/lib/python3.6/dist-packages/tensorboard/compat/tensorflow_stub/dtypes.py:544: FutureWarning: Passing (type, 1) or '1type' as a synonym of type is deprecated; in a future version of numpy, it will be understood as (type, (1,)) / '(1,)type'.\n",
      "  _np_quint16 = np.dtype([(\"quint16\", np.uint16, 1)])\n",
      "/usr/local/lib/python3.6/dist-packages/tensorboard/compat/tensorflow_stub/dtypes.py:545: FutureWarning: Passing (type, 1) or '1type' as a synonym of type is deprecated; in a future version of numpy, it will be understood as (type, (1,)) / '(1,)type'.\n",
      "  _np_qint32 = np.dtype([(\"qint32\", np.int32, 1)])\n",
      "/usr/local/lib/python3.6/dist-packages/tensorboard/compat/tensorflow_stub/dtypes.py:550: FutureWarning: Passing (type, 1) or '1type' as a synonym of type is deprecated; in a future version of numpy, it will be understood as (type, (1,)) / '(1,)type'.\n",
      "  np_resource = np.dtype([(\"resource\", np.ubyte, 1)])\n"
     ]
    }
   ],
   "source": [
    "import pandas as pd\n",
    "import numpy as np\n",
    "import tensorflow as tf\n",
    "from tensorflow import keras\n",
    "import matplotlib.pyplot as plt"
   ]
  },
  {
   "cell_type": "code",
   "execution_count": 2,
   "metadata": {},
   "outputs": [],
   "source": [
    "SMALL_SIZE = 12\n",
    "MEDIUM_SIZE = 14\n",
    "BIGGER_SIZE = 16\n",
    "\n",
    "plt.rc('font', size=SMALL_SIZE)          # controls default text sizes\n",
    "plt.rc('axes', titlesize=SMALL_SIZE)     # fontsize of the axes title\n",
    "plt.rc('axes', labelsize=MEDIUM_SIZE)    # fontsize of the x and y labels\n",
    "plt.rc('xtick', labelsize=SMALL_SIZE)    # fontsize of the tick labels\n",
    "plt.rc('ytick', labelsize=SMALL_SIZE)    # fontsize of the tick labels\n",
    "plt.rc('legend', fontsize=SMALL_SIZE)    # legend fontsize\n",
    "plt.rc('figure', titlesize=BIGGER_SIZE)  # fontsize of the figure title"
   ]
  },
  {
   "cell_type": "code",
   "execution_count": 3,
   "metadata": {},
   "outputs": [],
   "source": [
    "mcs = [ 'BPSK 1/2', 'BPSK 3/4', 'QPSK 1/2', 'QPSK 3/4',\n",
    "        '16QAM 1/2', '16QAM 3/4', '64QAM 2/3', '64QAM 3/4']"
   ]
  },
  {
   "cell_type": "markdown",
   "metadata": {},
   "source": [
    "## Read and prepare data"
   ]
  },
  {
   "cell_type": "code",
   "execution_count": 4,
   "metadata": {},
   "outputs": [],
   "source": [
    "# load data\n",
    "df = pd.read_csv('../agentdata/rssi_sl_raw_long.csv')"
   ]
  },
  {
   "cell_type": "code",
   "execution_count": 5,
   "metadata": {},
   "outputs": [],
   "source": [
    "# get dataset of best action for each observation (obs and label)\n",
    "cols = []\n",
    "for i in range(64):\n",
    "    cols.append('Sc' + str(i))\n",
    "\n",
    "df['Run'] = df.apply(lambda row: int(row.name / 8), axis=1)\n",
    "df = df[df['Reward'] > 0.0]\n",
    "\n",
    "obs = []\n",
    "label = []\n",
    "dist = []\n",
    "maxrewards = []\n",
    "\n",
    "for run in df['Run'].unique():\n",
    "    runData = df[df['Run'] == run]\n",
    "    myid = runData['Reward'].idxmax()\n",
    "    myrow = df.loc[myid]\n",
    "    label.append(myrow['Action'])\n",
    "    maxrewards.append(myrow['Reward'])\n",
    "    obs.append(myrow[cols].to_numpy())\n",
    "    dist.append(myrow['Dist'])\n",
    "    df.loc[df.Run == run, \"Best\"] = myrow['Action']"
   ]
  },
  {
   "cell_type": "markdown",
   "metadata": {},
   "source": [
    "## Train the model"
   ]
  },
  {
   "cell_type": "code",
   "execution_count": 6,
   "metadata": {},
   "outputs": [
    {
     "name": "stdout",
     "output_type": "stream",
     "text": [
      "WARNING:tensorflow:From /usr/local/lib/python3.6/dist-packages/tensorflow/python/ops/init_ops.py:1251: calling VarianceScaling.__init__ (from tensorflow.python.ops.init_ops) with dtype is deprecated and will be removed in a future version.\n",
      "Instructions for updating:\n",
      "Call initializer instance with the dtype argument instead of passing it to the constructor\n",
      "Model: \"sequential\"\n",
      "_________________________________________________________________\n",
      "Layer (type)                 Output Shape              Param #   \n",
      "=================================================================\n",
      "dense (Dense)                (None, 1)                 2         \n",
      "_________________________________________________________________\n",
      "dense_1 (Dense)              (None, 8)                 16        \n",
      "_________________________________________________________________\n",
      "dense_2 (Dense)              (None, 8)                 72        \n",
      "_________________________________________________________________\n",
      "dense_3 (Dense)              (None, 8)                 72        \n",
      "=================================================================\n",
      "Total params: 162\n",
      "Trainable params: 162\n",
      "Non-trainable params: 0\n",
      "_________________________________________________________________\n",
      "None\n"
     ]
    }
   ],
   "source": [
    "a_size = 8\n",
    "model = keras.Sequential()\n",
    "model.add(keras.layers.Dense(1, input_shape=(1,), activation='sigmoid'))\n",
    "model.add(keras.layers.Dense(a_size , activation='relu'))\n",
    "model.add(keras.layers.Dense(a_size, activation='relu'))\n",
    "model.add(keras.layers.Dense(a_size, activation='softmax'))\n",
    "model.compile(optimizer=tf.train.AdamOptimizer(0.001),\n",
    "              loss='sparse_categorical_crossentropy',\n",
    "              metrics=['accuracy'])\n",
    "print(model.summary())"
   ]
  },
  {
   "cell_type": "code",
   "execution_count": 7,
   "metadata": {},
   "outputs": [],
   "source": [
    "# take average observation over all 64 subcarriers\n",
    "data = []\n",
    "for elem in obs:\n",
    "    elem = np.average([elem[11], elem[25], elem[39], elem[53]])\n",
    "    elem = (elem - 0) / 45 \n",
    "    elem = np.reshape(elem, [1, ])\n",
    "    data.append(elem)\n",
    "data = np.array(data)"
   ]
  },
  {
   "cell_type": "code",
   "execution_count": 8,
   "metadata": {},
   "outputs": [
    {
     "data": {
      "text/plain": [
       "6594"
      ]
     },
     "execution_count": 8,
     "metadata": {},
     "output_type": "execute_result"
    }
   ],
   "source": [
    "# randomize data\n",
    "new_data = data\n",
    "new_label =[]\n",
    "new_label.extend(label)\n",
    "\n",
    "for i in range(5):\n",
    "    new_data = np.append(new_data, data + np.random.normal(0,0.005,len(data)).reshape(len(data),1))\n",
    "    new_label.extend(label)\n",
    "len(new_data)"
   ]
  },
  {
   "cell_type": "code",
   "execution_count": 9,
   "metadata": {
    "scrolled": false
   },
   "outputs": [
    {
     "name": "stdout",
     "output_type": "stream",
     "text": [
      "Train on 5275 samples, validate on 1319 samples\n",
      "Epoch 1/100\n",
      "5275/5275 [==============================] - 1s 131us/sample - loss: 2.0491 - acc: 0.2100 - val_loss: 2.0181 - val_acc: 0.2578\n",
      "Epoch 2/100\n",
      "5275/5275 [==============================] - 0s 75us/sample - loss: 1.9827 - acc: 0.2620 - val_loss: 1.9565 - val_acc: 0.2578\n",
      "Epoch 3/100\n",
      "5275/5275 [==============================] - 0s 75us/sample - loss: 1.9345 - acc: 0.2620 - val_loss: 1.9255 - val_acc: 0.2578\n",
      "Epoch 4/100\n",
      "5275/5275 [==============================] - 0s 76us/sample - loss: 1.9151 - acc: 0.2620 - val_loss: 1.9129 - val_acc: 0.2578\n",
      "Epoch 5/100\n",
      "5275/5275 [==============================] - 0s 77us/sample - loss: 1.9070 - acc: 0.2620 - val_loss: 1.9072 - val_acc: 0.2578\n",
      "Epoch 6/100\n",
      "5275/5275 [==============================] - 0s 77us/sample - loss: 1.9036 - acc: 0.2620 - val_loss: 1.9042 - val_acc: 0.2578\n",
      "Epoch 7/100\n",
      "5275/5275 [==============================] - 0s 77us/sample - loss: 1.9014 - acc: 0.2620 - val_loss: 1.9021 - val_acc: 0.2578\n",
      "Epoch 8/100\n",
      "5275/5275 [==============================] - 0s 76us/sample - loss: 1.8999 - acc: 0.2620 - val_loss: 1.9008 - val_acc: 0.2578\n",
      "Epoch 9/100\n",
      "5275/5275 [==============================] - 0s 73us/sample - loss: 1.8984 - acc: 0.2620 - val_loss: 1.8991 - val_acc: 0.2578\n",
      "Epoch 10/100\n",
      "5275/5275 [==============================] - 0s 72us/sample - loss: 1.8969 - acc: 0.2620 - val_loss: 1.8974 - val_acc: 0.2578\n",
      "Epoch 11/100\n",
      "5275/5275 [==============================] - 0s 75us/sample - loss: 1.8954 - acc: 0.2620 - val_loss: 1.8956 - val_acc: 0.2578\n",
      "Epoch 12/100\n",
      "5275/5275 [==============================] - 0s 77us/sample - loss: 1.8930 - acc: 0.2620 - val_loss: 1.8934 - val_acc: 0.2578\n",
      "Epoch 13/100\n",
      "5275/5275 [==============================] - 0s 75us/sample - loss: 1.8905 - acc: 0.2620 - val_loss: 1.8905 - val_acc: 0.2578\n",
      "Epoch 14/100\n",
      "5275/5275 [==============================] - 0s 76us/sample - loss: 1.8874 - acc: 0.2620 - val_loss: 1.8872 - val_acc: 0.2578\n",
      "Epoch 15/100\n",
      "5275/5275 [==============================] - 0s 75us/sample - loss: 1.8834 - acc: 0.2620 - val_loss: 1.8827 - val_acc: 0.2578\n",
      "Epoch 16/100\n",
      "5275/5275 [==============================] - 0s 78us/sample - loss: 1.8782 - acc: 0.2620 - val_loss: 1.8763 - val_acc: 0.2578\n",
      "Epoch 17/100\n",
      "5275/5275 [==============================] - 0s 74us/sample - loss: 1.8712 - acc: 0.2620 - val_loss: 1.8679 - val_acc: 0.2578\n",
      "Epoch 18/100\n",
      "5275/5275 [==============================] - 0s 78us/sample - loss: 1.8614 - acc: 0.2620 - val_loss: 1.8568 - val_acc: 0.2578\n",
      "Epoch 19/100\n",
      "5275/5275 [==============================] - 0s 72us/sample - loss: 1.8475 - acc: 0.2620 - val_loss: 1.8407 - val_acc: 0.2578\n",
      "Epoch 20/100\n",
      "5275/5275 [==============================] - 0s 79us/sample - loss: 1.8281 - acc: 0.2616 - val_loss: 1.8175 - val_acc: 0.2563\n",
      "Epoch 21/100\n",
      "5275/5275 [==============================] - 1s 104us/sample - loss: 1.8008 - acc: 0.2629 - val_loss: 1.7857 - val_acc: 0.2593\n",
      "Epoch 22/100\n",
      "5275/5275 [==============================] - 0s 80us/sample - loss: 1.7645 - acc: 0.2703 - val_loss: 1.7449 - val_acc: 0.2843\n",
      "Epoch 23/100\n",
      "5275/5275 [==============================] - 0s 80us/sample - loss: 1.7192 - acc: 0.3126 - val_loss: 1.6949 - val_acc: 0.3434\n",
      "Epoch 24/100\n",
      "5275/5275 [==============================] - 0s 76us/sample - loss: 1.6656 - acc: 0.3710 - val_loss: 1.6385 - val_acc: 0.3813\n",
      "Epoch 25/100\n",
      "5275/5275 [==============================] - 0s 79us/sample - loss: 1.6075 - acc: 0.3972 - val_loss: 1.5795 - val_acc: 0.3942\n",
      "Epoch 26/100\n",
      "5275/5275 [==============================] - 0s 89us/sample - loss: 1.5492 - acc: 0.4047 - val_loss: 1.5233 - val_acc: 0.3980\n",
      "Epoch 27/100\n",
      "5275/5275 [==============================] - 0s 84us/sample - loss: 1.4980 - acc: 0.4102 - val_loss: 1.4765 - val_acc: 0.4049\n",
      "Epoch 28/100\n",
      "5275/5275 [==============================] - 0s 77us/sample - loss: 1.4544 - acc: 0.4313 - val_loss: 1.4363 - val_acc: 0.4238\n",
      "Epoch 29/100\n",
      "5275/5275 [==============================] - 0s 76us/sample - loss: 1.4175 - acc: 0.4430 - val_loss: 1.4014 - val_acc: 0.4405\n",
      "Epoch 30/100\n",
      "5275/5275 [==============================] - 0s 77us/sample - loss: 1.3849 - acc: 0.4516 - val_loss: 1.3722 - val_acc: 0.4526\n",
      "Epoch 31/100\n",
      "5275/5275 [==============================] - 0s 74us/sample - loss: 1.3560 - acc: 0.4627 - val_loss: 1.3439 - val_acc: 0.4556\n",
      "Epoch 32/100\n",
      "5275/5275 [==============================] - 0s 75us/sample - loss: 1.3298 - acc: 0.4718 - val_loss: 1.3186 - val_acc: 0.4655\n",
      "Epoch 33/100\n",
      "5275/5275 [==============================] - 0s 72us/sample - loss: 1.3054 - acc: 0.4770 - val_loss: 1.2948 - val_acc: 0.4685\n",
      "Epoch 34/100\n",
      "5275/5275 [==============================] - 0s 75us/sample - loss: 1.2831 - acc: 0.4834 - val_loss: 1.2749 - val_acc: 0.4738\n",
      "Epoch 35/100\n",
      "5275/5275 [==============================] - 0s 85us/sample - loss: 1.2613 - acc: 0.4955 - val_loss: 1.2530 - val_acc: 0.4769\n",
      "Epoch 36/100\n",
      "5275/5275 [==============================] - 0s 81us/sample - loss: 1.2413 - acc: 0.4997 - val_loss: 1.2331 - val_acc: 0.4845\n",
      "Epoch 37/100\n",
      "5275/5275 [==============================] - 0s 75us/sample - loss: 1.2216 - acc: 0.5033 - val_loss: 1.2126 - val_acc: 0.5299\n",
      "Epoch 38/100\n",
      "5275/5275 [==============================] - 0s 78us/sample - loss: 1.2029 - acc: 0.5285 - val_loss: 1.1930 - val_acc: 0.5299\n",
      "Epoch 39/100\n",
      "5275/5275 [==============================] - 0s 73us/sample - loss: 1.1815 - acc: 0.5532 - val_loss: 1.1717 - val_acc: 0.5080\n",
      "Epoch 40/100\n",
      "5275/5275 [==============================] - 0s 76us/sample - loss: 1.1591 - acc: 0.5511 - val_loss: 1.1489 - val_acc: 0.5709\n",
      "Epoch 41/100\n",
      "5275/5275 [==============================] - 0s 80us/sample - loss: 1.1375 - acc: 0.5831 - val_loss: 1.1306 - val_acc: 0.5641\n",
      "Epoch 42/100\n",
      "5275/5275 [==============================] - 0s 75us/sample - loss: 1.1168 - acc: 0.5928 - val_loss: 1.1081 - val_acc: 0.5876\n",
      "Epoch 43/100\n",
      "5275/5275 [==============================] - 0s 81us/sample - loss: 1.0978 - acc: 0.6118 - val_loss: 1.0885 - val_acc: 0.6065\n",
      "Epoch 44/100\n",
      "5275/5275 [==============================] - 0s 76us/sample - loss: 1.0791 - acc: 0.6216 - val_loss: 1.0704 - val_acc: 0.6202\n",
      "Epoch 45/100\n",
      "5275/5275 [==============================] - 0s 70us/sample - loss: 1.0614 - acc: 0.6182 - val_loss: 1.0524 - val_acc: 0.6300\n",
      "Epoch 46/100\n",
      "5275/5275 [==============================] - 0s 92us/sample - loss: 1.0456 - acc: 0.6345 - val_loss: 1.0363 - val_acc: 0.6247\n",
      "Epoch 47/100\n",
      "5275/5275 [==============================] - 0s 91us/sample - loss: 1.0272 - acc: 0.6328 - val_loss: 1.0175 - val_acc: 0.6391\n",
      "Epoch 48/100\n",
      "5275/5275 [==============================] - 1s 104us/sample - loss: 1.0096 - acc: 0.6415 - val_loss: 1.0009 - val_acc: 0.6285\n",
      "Epoch 49/100\n",
      "5275/5275 [==============================] - 1s 98us/sample - loss: 0.9934 - acc: 0.6392 - val_loss: 0.9878 - val_acc: 0.6262\n",
      "Epoch 50/100\n",
      "5275/5275 [==============================] - 0s 84us/sample - loss: 0.9777 - acc: 0.6442 - val_loss: 0.9722 - val_acc: 0.6300\n",
      "Epoch 51/100\n",
      "5275/5275 [==============================] - 1s 99us/sample - loss: 0.9642 - acc: 0.6440 - val_loss: 0.9556 - val_acc: 0.6482\n",
      "Epoch 52/100\n",
      "5275/5275 [==============================] - 1s 95us/sample - loss: 0.9505 - acc: 0.6451 - val_loss: 0.9434 - val_acc: 0.6406\n",
      "Epoch 53/100\n",
      "5275/5275 [==============================] - 0s 84us/sample - loss: 0.9379 - acc: 0.6523 - val_loss: 0.9299 - val_acc: 0.6513\n",
      "Epoch 54/100\n",
      "5275/5275 [==============================] - 0s 75us/sample - loss: 0.9263 - acc: 0.6474 - val_loss: 0.9191 - val_acc: 0.6641\n",
      "Epoch 55/100\n",
      "5275/5275 [==============================] - 0s 83us/sample - loss: 0.9151 - acc: 0.6559 - val_loss: 0.9087 - val_acc: 0.6611\n",
      "Epoch 56/100\n",
      "5275/5275 [==============================] - 0s 92us/sample - loss: 0.9040 - acc: 0.6533 - val_loss: 0.8986 - val_acc: 0.6528\n",
      "Epoch 57/100\n",
      "5275/5275 [==============================] - 0s 87us/sample - loss: 0.8946 - acc: 0.6612 - val_loss: 0.8895 - val_acc: 0.6497\n",
      "Epoch 58/100\n",
      "5275/5275 [==============================] - 0s 76us/sample - loss: 0.8853 - acc: 0.6586 - val_loss: 0.8799 - val_acc: 0.6566\n",
      "Epoch 59/100\n"
     ]
    },
    {
     "name": "stdout",
     "output_type": "stream",
     "text": [
      "5275/5275 [==============================] - 0s 74us/sample - loss: 0.8766 - acc: 0.6620 - val_loss: 0.8726 - val_acc: 0.6611\n",
      "Epoch 60/100\n",
      "5275/5275 [==============================] - 0s 79us/sample - loss: 0.8683 - acc: 0.6646 - val_loss: 0.8624 - val_acc: 0.6657\n",
      "Epoch 61/100\n",
      "5275/5275 [==============================] - 0s 71us/sample - loss: 0.8604 - acc: 0.6654 - val_loss: 0.8540 - val_acc: 0.6672\n",
      "Epoch 62/100\n",
      "5275/5275 [==============================] - 0s 77us/sample - loss: 0.8535 - acc: 0.6658 - val_loss: 0.8504 - val_acc: 0.6641\n",
      "Epoch 63/100\n",
      "5275/5275 [==============================] - 1s 95us/sample - loss: 0.8463 - acc: 0.6669 - val_loss: 0.8406 - val_acc: 0.6694\n",
      "Epoch 64/100\n",
      "5275/5275 [==============================] - 0s 77us/sample - loss: 0.8401 - acc: 0.6652 - val_loss: 0.8338 - val_acc: 0.6687\n",
      "Epoch 65/100\n",
      "5275/5275 [==============================] - 0s 76us/sample - loss: 0.8338 - acc: 0.6696 - val_loss: 0.8282 - val_acc: 0.6679\n",
      "Epoch 66/100\n",
      "5275/5275 [==============================] - 0s 77us/sample - loss: 0.8279 - acc: 0.6739 - val_loss: 0.8228 - val_acc: 0.6611\n",
      "Epoch 67/100\n",
      "5275/5275 [==============================] - 0s 76us/sample - loss: 0.8231 - acc: 0.6692 - val_loss: 0.8174 - val_acc: 0.6740\n",
      "Epoch 68/100\n",
      "5275/5275 [==============================] - 0s 75us/sample - loss: 0.8167 - acc: 0.6677 - val_loss: 0.8130 - val_acc: 0.6679\n",
      "Epoch 69/100\n",
      "5275/5275 [==============================] - 0s 73us/sample - loss: 0.8122 - acc: 0.6732 - val_loss: 0.8057 - val_acc: 0.6778\n",
      "Epoch 70/100\n",
      "5275/5275 [==============================] - 0s 74us/sample - loss: 0.8071 - acc: 0.6713 - val_loss: 0.8106 - val_acc: 0.6596\n",
      "Epoch 71/100\n",
      "5275/5275 [==============================] - 0s 78us/sample - loss: 0.8028 - acc: 0.6722 - val_loss: 0.8034 - val_acc: 0.6619\n",
      "Epoch 72/100\n",
      "5275/5275 [==============================] - 0s 72us/sample - loss: 0.7987 - acc: 0.6717 - val_loss: 0.7930 - val_acc: 0.6801\n",
      "Epoch 73/100\n",
      "5275/5275 [==============================] - 0s 73us/sample - loss: 0.7951 - acc: 0.6673 - val_loss: 0.7915 - val_acc: 0.6672\n",
      "Epoch 74/100\n",
      "5275/5275 [==============================] - 0s 78us/sample - loss: 0.7905 - acc: 0.6747 - val_loss: 0.7856 - val_acc: 0.6808\n",
      "Epoch 75/100\n",
      "5275/5275 [==============================] - 0s 71us/sample - loss: 0.7875 - acc: 0.6724 - val_loss: 0.7824 - val_acc: 0.6763\n",
      "Epoch 76/100\n",
      "5275/5275 [==============================] - 0s 71us/sample - loss: 0.7842 - acc: 0.6736 - val_loss: 0.7906 - val_acc: 0.6550\n",
      "Epoch 77/100\n",
      "5275/5275 [==============================] - 0s 79us/sample - loss: 0.7806 - acc: 0.6734 - val_loss: 0.7762 - val_acc: 0.6748\n",
      "Epoch 78/100\n",
      "5275/5275 [==============================] - 0s 87us/sample - loss: 0.7778 - acc: 0.6726 - val_loss: 0.7722 - val_acc: 0.6770\n",
      "Epoch 79/100\n",
      "5275/5275 [==============================] - 0s 86us/sample - loss: 0.7744 - acc: 0.6768 - val_loss: 0.7691 - val_acc: 0.6785\n",
      "Epoch 80/100\n",
      "5275/5275 [==============================] - 0s 76us/sample - loss: 0.7720 - acc: 0.6736 - val_loss: 0.7668 - val_acc: 0.6785\n",
      "Epoch 81/100\n",
      "5275/5275 [==============================] - 0s 87us/sample - loss: 0.7698 - acc: 0.6743 - val_loss: 0.7674 - val_acc: 0.6694\n",
      "Epoch 82/100\n",
      "5275/5275 [==============================] - 0s 73us/sample - loss: 0.7664 - acc: 0.6764 - val_loss: 0.7632 - val_acc: 0.6710\n",
      "Epoch 83/100\n",
      "5275/5275 [==============================] - 0s 88us/sample - loss: 0.7649 - acc: 0.6739 - val_loss: 0.7606 - val_acc: 0.6748\n",
      "Epoch 84/100\n",
      "5275/5275 [==============================] - 0s 79us/sample - loss: 0.7618 - acc: 0.6851 - val_loss: 0.7584 - val_acc: 0.6755\n",
      "Epoch 85/100\n",
      "5275/5275 [==============================] - 0s 75us/sample - loss: 0.7597 - acc: 0.6933 - val_loss: 0.7622 - val_acc: 0.6740\n",
      "Epoch 86/100\n",
      "5275/5275 [==============================] - 0s 77us/sample - loss: 0.7583 - acc: 0.6929 - val_loss: 0.7576 - val_acc: 0.6884\n",
      "Epoch 87/100\n",
      "5275/5275 [==============================] - 0s 87us/sample - loss: 0.7558 - acc: 0.6935 - val_loss: 0.7532 - val_acc: 0.6869\n",
      "Epoch 88/100\n",
      "5275/5275 [==============================] - 0s 78us/sample - loss: 0.7545 - acc: 0.6912 - val_loss: 0.7499 - val_acc: 0.6914\n",
      "Epoch 89/100\n",
      "5275/5275 [==============================] - 0s 77us/sample - loss: 0.7519 - acc: 0.6935 - val_loss: 0.7484 - val_acc: 0.6884\n",
      "Epoch 90/100\n",
      "5275/5275 [==============================] - 0s 89us/sample - loss: 0.7506 - acc: 0.6923 - val_loss: 0.7457 - val_acc: 0.6922\n",
      "Epoch 91/100\n",
      "5275/5275 [==============================] - 1s 95us/sample - loss: 0.7491 - acc: 0.6952 - val_loss: 0.7437 - val_acc: 0.6892\n",
      "Epoch 92/100\n",
      "5275/5275 [==============================] - 0s 93us/sample - loss: 0.7475 - acc: 0.6963 - val_loss: 0.7419 - val_acc: 0.6975\n",
      "Epoch 93/100\n",
      "5275/5275 [==============================] - 1s 95us/sample - loss: 0.7465 - acc: 0.6955 - val_loss: 0.7415 - val_acc: 0.6929\n",
      "Epoch 94/100\n",
      "5275/5275 [==============================] - 1s 109us/sample - loss: 0.7444 - acc: 0.6950 - val_loss: 0.7417 - val_acc: 0.6937\n",
      "Epoch 95/100\n",
      "5275/5275 [==============================] - 0s 78us/sample - loss: 0.7433 - acc: 0.6933 - val_loss: 0.7444 - val_acc: 0.6793\n",
      "Epoch 96/100\n",
      "5275/5275 [==============================] - 0s 90us/sample - loss: 0.7416 - acc: 0.6973 - val_loss: 0.7363 - val_acc: 0.6967\n",
      "Epoch 97/100\n",
      "5275/5275 [==============================] - 0s 77us/sample - loss: 0.7414 - acc: 0.7012 - val_loss: 0.7371 - val_acc: 0.6884\n",
      "Epoch 98/100\n",
      "5275/5275 [==============================] - 0s 78us/sample - loss: 0.7394 - acc: 0.6954 - val_loss: 0.7348 - val_acc: 0.6929\n",
      "Epoch 99/100\n",
      "5275/5275 [==============================] - 0s 90us/sample - loss: 0.7382 - acc: 0.6950 - val_loss: 0.7363 - val_acc: 0.6876\n",
      "Epoch 100/100\n",
      "5275/5275 [==============================] - 0s 85us/sample - loss: 0.7376 - acc: 0.6955 - val_loss: 0.7330 - val_acc: 0.6975\n"
     ]
    },
    {
     "data": {
      "text/plain": [
       "<tensorflow.python.keras.callbacks.History at 0x7fc44382bcf8>"
      ]
     },
     "execution_count": 9,
     "metadata": {},
     "output_type": "execute_result"
    }
   ],
   "source": [
    "total_epochs = int(100)\n",
    "model.fit(new_data, new_label,\n",
    "                validation_split=0.2,\n",
    "                epochs=total_epochs,\n",
    "                batch_size=32)"
   ]
  },
  {
   "cell_type": "markdown",
   "metadata": {},
   "source": [
    "## Evaluate the model"
   ]
  },
  {
   "cell_type": "code",
   "execution_count": 10,
   "metadata": {
    "scrolled": true
   },
   "outputs": [
    {
     "name": "stdout",
     "output_type": "stream",
     "text": [
      "0.4 -> 1\n",
      "0.5 -> 2\n",
      "0.6 -> 3\n",
      "0.7 -> 5\n"
     ]
    }
   ],
   "source": [
    "for test in [0.4, 0.5, 0.6, 0.7]:\n",
    "    var = model.predict([test])\n",
    "    print(str(test) +\" -> \" + str(np.argmax(var)))"
   ]
  },
  {
   "cell_type": "code",
   "execution_count": 11,
   "metadata": {
    "scrolled": true
   },
   "outputs": [
    {
     "data": {
      "image/png": "[encoded data removed]",
      "text/plain": [
       "<Figure size 432x288 with 1 Axes>"
      ]
     },
     "metadata": {},
     "output_type": "display_data"
    }
   ],
   "source": [
    "linEval = np.linspace(data.min(), data.max(), num=1000).reshape(-1, 1)\n",
    "actions= []\n",
    "for elem in linEval:\n",
    "    actions.append(np.argmax(model.predict([elem])))\n",
    "plt.plot(linEval, actions, '.', alpha = 0.5)\n",
    "plt.yticks(range(8), mcs)\n",
    "plt.xlabel('Observation (Average)')\n",
    "plt.ylabel('Action')\n",
    "plt.tight_layout()\n",
    "plt.savefig('eval_nn_agent.pdf')\n",
    "plt.savefig('eval_nn_agent.png')"
   ]
  },
  {
   "cell_type": "markdown",
   "metadata": {},
   "source": [
    "## Show measurement data"
   ]
  },
  {
   "cell_type": "code",
   "execution_count": 12,
   "metadata": {},
   "outputs": [
    {
     "data": {
      "image/png": "[encoded data removed]",
      "text/plain": [
       "<Figure size 432x288 with 1 Axes>"
      ]
     },
     "metadata": {},
     "output_type": "display_data"
    }
   ],
   "source": [
    "plt.plot(data, label, '.', alpha = 0.5)\n",
    "plt.yticks(range(8), mcs)\n",
    "plt.xlabel('Observation (Average)')\n",
    "plt.ylabel('Action')\n",
    "plt.tight_layout()\n",
    "plt.savefig('eval_action.pdf')\n",
    "plt.savefig('eval_action.png')"
   ]
  },
  {
   "cell_type": "code",
   "execution_count": 13,
   "metadata": {},
   "outputs": [],
   "source": [
    "dfDist = pd.DataFrame(data, columns =['Avg'])\n",
    "dfDist['Dist'] = dist"
   ]
  },
  {
   "cell_type": "code",
   "execution_count": 14,
   "metadata": {},
   "outputs": [
    {
     "data": {
      "image/png": "[encoded data removed]",
      "text/plain": [
       "<Figure size 432x288 with 1 Axes>"
      ]
     },
     "metadata": {},
     "output_type": "display_data"
    }
   ],
   "source": [
    "plt.plot(dist, data, '.', alpha = 0.5)\n",
    "plt.xlabel('Distance in dB')\n",
    "plt.ylabel('Observation (SC Average)')\n",
    "plt.savefig('eval_observation.pdf')\n",
    "plt.savefig('eval_observation.png')"
   ]
  },
  {
   "cell_type": "markdown",
   "metadata": {},
   "source": [
    "## Compare agent and measurement"
   ]
  },
  {
   "cell_type": "code",
   "execution_count": 15,
   "metadata": {},
   "outputs": [
    {
     "data": {
      "image/png": "[encoded data removed]",
      "text/plain": [
       "<Figure size 432x288 with 1 Axes>"
      ]
     },
     "metadata": {},
     "output_type": "display_data"
    }
   ],
   "source": [
    "linEval = np.linspace(data.min(), data.max(), num=1000).reshape(-1, 1)\n",
    "actions= []\n",
    "for elem in linEval:\n",
    "    actions.append(np.argmax(model.predict([elem])))\n",
    "gooddata = []\n",
    "goodaction = []\n",
    "baddata = []\n",
    "badaction = []\n",
    "for key, elem in enumerate(data):\n",
    "    predict = np.argmax(model.predict([elem]))\n",
    "    if label[key] == predict:\n",
    "        gooddata.append(elem)\n",
    "        goodaction.append(label[key])\n",
    "    else:\n",
    "        baddata.append(elem)\n",
    "        badaction.append(label[key])\n",
    "plt.plot(linEval, actions, '.', alpha = 0.5, label=\"Model prediction\")\n",
    "plt.plot(baddata, badaction, 'r.', alpha = 0.5, label=\"Unexpected\")\n",
    "plt.plot(gooddata, goodaction, 'g.', alpha = 0.5, label=\"Expected\")\n",
    "plt.yticks(range(8), mcs)\n",
    "plt.xlabel('Observation (Average)')\n",
    "plt.ylabel('Action')\n",
    "plt.legend()\n",
    "plt.tight_layout()\n",
    "plt.savefig('eval_nn_agent_data.pdf')\n",
    "plt.savefig('eval_nn_agent_data.png')"
   ]
  },
  {
   "cell_type": "code",
   "execution_count": null,
   "metadata": {},
   "outputs": [],
   "source": []
  }
 ],
 "metadata": {
  "kernelspec": {
   "display_name": "Python 3",
   "language": "python",
   "name": "python3"
  },
  "language_info": {
   "codemirror_mode": {
    "name": "ipython",
    "version": 3
   },
   "file_extension": ".py",
   "mimetype": "text/x-python",
   "name": "python",
   "nbconvert_exporter": "python",
   "pygments_lexer": "ipython3",
   "version": "3.6.9"
  }
 },
 "nbformat": 4,
 "nbformat_minor": 2
}
